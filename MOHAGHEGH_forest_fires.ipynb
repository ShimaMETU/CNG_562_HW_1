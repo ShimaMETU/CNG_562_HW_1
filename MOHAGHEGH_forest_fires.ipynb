{
  "nbformat": 4,
  "nbformat_minor": 0,
  "metadata": {
    "colab": {
      "name": "MOHAGHEGH_forest_fires.ipynb",
      "version": "0.3.2",
      "provenance": []
    },
    "kernelspec": {
      "name": "python3",
      "display_name": "Python 3"
    }
  },
  "cells": [
    {
      "metadata": {
        "id": "v0tscDfksBZH",
        "colab_type": "code",
        "colab": {
          "base_uri": "https://localhost:8080/",
          "height": 34
        },
        "outputId": "40947d5a-0b57-40ac-9b8f-b79707e8181c"
      },
      "cell_type": "code",
      "source": [
        "%reset"
      ],
      "execution_count": 163,
      "outputs": [
        {
          "output_type": "stream",
          "text": [
            "Once deleted, variables cannot be recovered. Proceed (y/[n])? y\n"
          ],
          "name": "stdout"
        }
      ]
    },
    {
      "metadata": {
        "id": "6TKefolgCyDw",
        "colab_type": "code",
        "colab": {
          "base_uri": "https://localhost:8080/",
          "height": 204
        },
        "outputId": "302e8cfe-7080-4981-bd1a-7cb614a28ad3"
      },
      "cell_type": "code",
      "source": [
        "import pandas as pd\n",
        "import numpy as np\n",
        "from sklearn import preprocessing\n",
        "forest_fires = pd.read_csv('https://archive.ics.uci.edu/ml/machine-learning-databases/forest-fires/forestfires.csv')\n",
        "forest_fires['area']=np.log(pd.Series(forest_fires.area)+1)\n",
        "forest_fires.head()"
      ],
      "execution_count": 164,
      "outputs": [
        {
          "output_type": "execute_result",
          "data": {
            "text/html": [
              "<div>\n",
              "<style scoped>\n",
              "    .dataframe tbody tr th:only-of-type {\n",
              "        vertical-align: middle;\n",
              "    }\n",
              "\n",
              "    .dataframe tbody tr th {\n",
              "        vertical-align: top;\n",
              "    }\n",
              "\n",
              "    .dataframe thead th {\n",
              "        text-align: right;\n",
              "    }\n",
              "</style>\n",
              "<table border=\"1\" class=\"dataframe\">\n",
              "  <thead>\n",
              "    <tr style=\"text-align: right;\">\n",
              "      <th></th>\n",
              "      <th>X</th>\n",
              "      <th>Y</th>\n",
              "      <th>month</th>\n",
              "      <th>day</th>\n",
              "      <th>FFMC</th>\n",
              "      <th>DMC</th>\n",
              "      <th>DC</th>\n",
              "      <th>ISI</th>\n",
              "      <th>temp</th>\n",
              "      <th>RH</th>\n",
              "      <th>wind</th>\n",
              "      <th>rain</th>\n",
              "      <th>area</th>\n",
              "    </tr>\n",
              "  </thead>\n",
              "  <tbody>\n",
              "    <tr>\n",
              "      <th>0</th>\n",
              "      <td>7</td>\n",
              "      <td>5</td>\n",
              "      <td>mar</td>\n",
              "      <td>fri</td>\n",
              "      <td>86.2</td>\n",
              "      <td>26.2</td>\n",
              "      <td>94.3</td>\n",
              "      <td>5.1</td>\n",
              "      <td>8.2</td>\n",
              "      <td>51</td>\n",
              "      <td>6.7</td>\n",
              "      <td>0.0</td>\n",
              "      <td>0.0</td>\n",
              "    </tr>\n",
              "    <tr>\n",
              "      <th>1</th>\n",
              "      <td>7</td>\n",
              "      <td>4</td>\n",
              "      <td>oct</td>\n",
              "      <td>tue</td>\n",
              "      <td>90.6</td>\n",
              "      <td>35.4</td>\n",
              "      <td>669.1</td>\n",
              "      <td>6.7</td>\n",
              "      <td>18.0</td>\n",
              "      <td>33</td>\n",
              "      <td>0.9</td>\n",
              "      <td>0.0</td>\n",
              "      <td>0.0</td>\n",
              "    </tr>\n",
              "    <tr>\n",
              "      <th>2</th>\n",
              "      <td>7</td>\n",
              "      <td>4</td>\n",
              "      <td>oct</td>\n",
              "      <td>sat</td>\n",
              "      <td>90.6</td>\n",
              "      <td>43.7</td>\n",
              "      <td>686.9</td>\n",
              "      <td>6.7</td>\n",
              "      <td>14.6</td>\n",
              "      <td>33</td>\n",
              "      <td>1.3</td>\n",
              "      <td>0.0</td>\n",
              "      <td>0.0</td>\n",
              "    </tr>\n",
              "    <tr>\n",
              "      <th>3</th>\n",
              "      <td>8</td>\n",
              "      <td>6</td>\n",
              "      <td>mar</td>\n",
              "      <td>fri</td>\n",
              "      <td>91.7</td>\n",
              "      <td>33.3</td>\n",
              "      <td>77.5</td>\n",
              "      <td>9.0</td>\n",
              "      <td>8.3</td>\n",
              "      <td>97</td>\n",
              "      <td>4.0</td>\n",
              "      <td>0.2</td>\n",
              "      <td>0.0</td>\n",
              "    </tr>\n",
              "    <tr>\n",
              "      <th>4</th>\n",
              "      <td>8</td>\n",
              "      <td>6</td>\n",
              "      <td>mar</td>\n",
              "      <td>sun</td>\n",
              "      <td>89.3</td>\n",
              "      <td>51.3</td>\n",
              "      <td>102.2</td>\n",
              "      <td>9.6</td>\n",
              "      <td>11.4</td>\n",
              "      <td>99</td>\n",
              "      <td>1.8</td>\n",
              "      <td>0.0</td>\n",
              "      <td>0.0</td>\n",
              "    </tr>\n",
              "  </tbody>\n",
              "</table>\n",
              "</div>"
            ],
            "text/plain": [
              "   X  Y month  day  FFMC   DMC     DC  ISI  temp  RH  wind  rain  area\n",
              "0  7  5   mar  fri  86.2  26.2   94.3  5.1   8.2  51   6.7   0.0   0.0\n",
              "1  7  4   oct  tue  90.6  35.4  669.1  6.7  18.0  33   0.9   0.0   0.0\n",
              "2  7  4   oct  sat  90.6  43.7  686.9  6.7  14.6  33   1.3   0.0   0.0\n",
              "3  8  6   mar  fri  91.7  33.3   77.5  9.0   8.3  97   4.0   0.2   0.0\n",
              "4  8  6   mar  sun  89.3  51.3  102.2  9.6  11.4  99   1.8   0.0   0.0"
            ]
          },
          "metadata": {
            "tags": []
          },
          "execution_count": 164
        }
      ]
    },
    {
      "metadata": {
        "id": "rAe5VLJQCzsS",
        "colab_type": "code",
        "colab": {
          "base_uri": "https://localhost:8080/",
          "height": 255
        },
        "outputId": "dc8a3a5f-2b25-4116-a510-60158a41a4bd"
      },
      "cell_type": "code",
      "source": [
        "forest_fires.isnull().sum()"
      ],
      "execution_count": 165,
      "outputs": [
        {
          "output_type": "execute_result",
          "data": {
            "text/plain": [
              "X        0\n",
              "Y        0\n",
              "month    0\n",
              "day      0\n",
              "FFMC     0\n",
              "DMC      0\n",
              "DC       0\n",
              "ISI      0\n",
              "temp     0\n",
              "RH       0\n",
              "wind     0\n",
              "rain     0\n",
              "area     0\n",
              "dtype: int64"
            ]
          },
          "metadata": {
            "tags": []
          },
          "execution_count": 165
        }
      ]
    },
    {
      "metadata": {
        "id": "-17H4e1FCzh5",
        "colab_type": "code",
        "colab": {
          "base_uri": "https://localhost:8080/",
          "height": 34
        },
        "outputId": "810432af-8d9a-4c35-8e98-98f997efbce8"
      },
      "cell_type": "code",
      "source": [
        "from sklearn.preprocessing import OneHotEncoder\n",
        "from sklearn.preprocessing import LabelEncoder\n",
        "MY_ENC = LabelEncoder()\n",
        "MY_ENC.fit(forest_fires['month'])"
      ],
      "execution_count": 166,
      "outputs": [
        {
          "output_type": "execute_result",
          "data": {
            "text/plain": [
              "LabelEncoder()"
            ]
          },
          "metadata": {
            "tags": []
          },
          "execution_count": 166
        }
      ]
    },
    {
      "metadata": {
        "id": "2UJ95XjbCzwh",
        "colab_type": "code",
        "colab": {
          "base_uri": "https://localhost:8080/",
          "height": 204
        },
        "outputId": "f864cbbd-f072-42b9-d103-4760eaa16cf5"
      },
      "cell_type": "code",
      "source": [
        "forest_fires['month']=MY_ENC.transform(forest_fires['month'])\n",
        "forest_fires.head()"
      ],
      "execution_count": 167,
      "outputs": [
        {
          "output_type": "execute_result",
          "data": {
            "text/html": [
              "<div>\n",
              "<style scoped>\n",
              "    .dataframe tbody tr th:only-of-type {\n",
              "        vertical-align: middle;\n",
              "    }\n",
              "\n",
              "    .dataframe tbody tr th {\n",
              "        vertical-align: top;\n",
              "    }\n",
              "\n",
              "    .dataframe thead th {\n",
              "        text-align: right;\n",
              "    }\n",
              "</style>\n",
              "<table border=\"1\" class=\"dataframe\">\n",
              "  <thead>\n",
              "    <tr style=\"text-align: right;\">\n",
              "      <th></th>\n",
              "      <th>X</th>\n",
              "      <th>Y</th>\n",
              "      <th>month</th>\n",
              "      <th>day</th>\n",
              "      <th>FFMC</th>\n",
              "      <th>DMC</th>\n",
              "      <th>DC</th>\n",
              "      <th>ISI</th>\n",
              "      <th>temp</th>\n",
              "      <th>RH</th>\n",
              "      <th>wind</th>\n",
              "      <th>rain</th>\n",
              "      <th>area</th>\n",
              "    </tr>\n",
              "  </thead>\n",
              "  <tbody>\n",
              "    <tr>\n",
              "      <th>0</th>\n",
              "      <td>7</td>\n",
              "      <td>5</td>\n",
              "      <td>7</td>\n",
              "      <td>fri</td>\n",
              "      <td>86.2</td>\n",
              "      <td>26.2</td>\n",
              "      <td>94.3</td>\n",
              "      <td>5.1</td>\n",
              "      <td>8.2</td>\n",
              "      <td>51</td>\n",
              "      <td>6.7</td>\n",
              "      <td>0.0</td>\n",
              "      <td>0.0</td>\n",
              "    </tr>\n",
              "    <tr>\n",
              "      <th>1</th>\n",
              "      <td>7</td>\n",
              "      <td>4</td>\n",
              "      <td>10</td>\n",
              "      <td>tue</td>\n",
              "      <td>90.6</td>\n",
              "      <td>35.4</td>\n",
              "      <td>669.1</td>\n",
              "      <td>6.7</td>\n",
              "      <td>18.0</td>\n",
              "      <td>33</td>\n",
              "      <td>0.9</td>\n",
              "      <td>0.0</td>\n",
              "      <td>0.0</td>\n",
              "    </tr>\n",
              "    <tr>\n",
              "      <th>2</th>\n",
              "      <td>7</td>\n",
              "      <td>4</td>\n",
              "      <td>10</td>\n",
              "      <td>sat</td>\n",
              "      <td>90.6</td>\n",
              "      <td>43.7</td>\n",
              "      <td>686.9</td>\n",
              "      <td>6.7</td>\n",
              "      <td>14.6</td>\n",
              "      <td>33</td>\n",
              "      <td>1.3</td>\n",
              "      <td>0.0</td>\n",
              "      <td>0.0</td>\n",
              "    </tr>\n",
              "    <tr>\n",
              "      <th>3</th>\n",
              "      <td>8</td>\n",
              "      <td>6</td>\n",
              "      <td>7</td>\n",
              "      <td>fri</td>\n",
              "      <td>91.7</td>\n",
              "      <td>33.3</td>\n",
              "      <td>77.5</td>\n",
              "      <td>9.0</td>\n",
              "      <td>8.3</td>\n",
              "      <td>97</td>\n",
              "      <td>4.0</td>\n",
              "      <td>0.2</td>\n",
              "      <td>0.0</td>\n",
              "    </tr>\n",
              "    <tr>\n",
              "      <th>4</th>\n",
              "      <td>8</td>\n",
              "      <td>6</td>\n",
              "      <td>7</td>\n",
              "      <td>sun</td>\n",
              "      <td>89.3</td>\n",
              "      <td>51.3</td>\n",
              "      <td>102.2</td>\n",
              "      <td>9.6</td>\n",
              "      <td>11.4</td>\n",
              "      <td>99</td>\n",
              "      <td>1.8</td>\n",
              "      <td>0.0</td>\n",
              "      <td>0.0</td>\n",
              "    </tr>\n",
              "  </tbody>\n",
              "</table>\n",
              "</div>"
            ],
            "text/plain": [
              "   X  Y  month  day  FFMC   DMC     DC  ISI  temp  RH  wind  rain  area\n",
              "0  7  5      7  fri  86.2  26.2   94.3  5.1   8.2  51   6.7   0.0   0.0\n",
              "1  7  4     10  tue  90.6  35.4  669.1  6.7  18.0  33   0.9   0.0   0.0\n",
              "2  7  4     10  sat  90.6  43.7  686.9  6.7  14.6  33   1.3   0.0   0.0\n",
              "3  8  6      7  fri  91.7  33.3   77.5  9.0   8.3  97   4.0   0.2   0.0\n",
              "4  8  6      7  sun  89.3  51.3  102.2  9.6  11.4  99   1.8   0.0   0.0"
            ]
          },
          "metadata": {
            "tags": []
          },
          "execution_count": 167
        }
      ]
    },
    {
      "metadata": {
        "id": "i1Xb-qQbCz0Q",
        "colab_type": "code",
        "colab": {
          "base_uri": "https://localhost:8080/",
          "height": 204
        },
        "outputId": "0746a45a-6766-4ff3-beba-2d7dd670416e"
      },
      "cell_type": "code",
      "source": [
        "MY_ENC.fit(forest_fires['day'])\n",
        "forest_fires['day']=MY_ENC.transform(forest_fires['day'])\n",
        "forest_fires.head()"
      ],
      "execution_count": 168,
      "outputs": [
        {
          "output_type": "execute_result",
          "data": {
            "text/html": [
              "<div>\n",
              "<style scoped>\n",
              "    .dataframe tbody tr th:only-of-type {\n",
              "        vertical-align: middle;\n",
              "    }\n",
              "\n",
              "    .dataframe tbody tr th {\n",
              "        vertical-align: top;\n",
              "    }\n",
              "\n",
              "    .dataframe thead th {\n",
              "        text-align: right;\n",
              "    }\n",
              "</style>\n",
              "<table border=\"1\" class=\"dataframe\">\n",
              "  <thead>\n",
              "    <tr style=\"text-align: right;\">\n",
              "      <th></th>\n",
              "      <th>X</th>\n",
              "      <th>Y</th>\n",
              "      <th>month</th>\n",
              "      <th>day</th>\n",
              "      <th>FFMC</th>\n",
              "      <th>DMC</th>\n",
              "      <th>DC</th>\n",
              "      <th>ISI</th>\n",
              "      <th>temp</th>\n",
              "      <th>RH</th>\n",
              "      <th>wind</th>\n",
              "      <th>rain</th>\n",
              "      <th>area</th>\n",
              "    </tr>\n",
              "  </thead>\n",
              "  <tbody>\n",
              "    <tr>\n",
              "      <th>0</th>\n",
              "      <td>7</td>\n",
              "      <td>5</td>\n",
              "      <td>7</td>\n",
              "      <td>0</td>\n",
              "      <td>86.2</td>\n",
              "      <td>26.2</td>\n",
              "      <td>94.3</td>\n",
              "      <td>5.1</td>\n",
              "      <td>8.2</td>\n",
              "      <td>51</td>\n",
              "      <td>6.7</td>\n",
              "      <td>0.0</td>\n",
              "      <td>0.0</td>\n",
              "    </tr>\n",
              "    <tr>\n",
              "      <th>1</th>\n",
              "      <td>7</td>\n",
              "      <td>4</td>\n",
              "      <td>10</td>\n",
              "      <td>5</td>\n",
              "      <td>90.6</td>\n",
              "      <td>35.4</td>\n",
              "      <td>669.1</td>\n",
              "      <td>6.7</td>\n",
              "      <td>18.0</td>\n",
              "      <td>33</td>\n",
              "      <td>0.9</td>\n",
              "      <td>0.0</td>\n",
              "      <td>0.0</td>\n",
              "    </tr>\n",
              "    <tr>\n",
              "      <th>2</th>\n",
              "      <td>7</td>\n",
              "      <td>4</td>\n",
              "      <td>10</td>\n",
              "      <td>2</td>\n",
              "      <td>90.6</td>\n",
              "      <td>43.7</td>\n",
              "      <td>686.9</td>\n",
              "      <td>6.7</td>\n",
              "      <td>14.6</td>\n",
              "      <td>33</td>\n",
              "      <td>1.3</td>\n",
              "      <td>0.0</td>\n",
              "      <td>0.0</td>\n",
              "    </tr>\n",
              "    <tr>\n",
              "      <th>3</th>\n",
              "      <td>8</td>\n",
              "      <td>6</td>\n",
              "      <td>7</td>\n",
              "      <td>0</td>\n",
              "      <td>91.7</td>\n",
              "      <td>33.3</td>\n",
              "      <td>77.5</td>\n",
              "      <td>9.0</td>\n",
              "      <td>8.3</td>\n",
              "      <td>97</td>\n",
              "      <td>4.0</td>\n",
              "      <td>0.2</td>\n",
              "      <td>0.0</td>\n",
              "    </tr>\n",
              "    <tr>\n",
              "      <th>4</th>\n",
              "      <td>8</td>\n",
              "      <td>6</td>\n",
              "      <td>7</td>\n",
              "      <td>3</td>\n",
              "      <td>89.3</td>\n",
              "      <td>51.3</td>\n",
              "      <td>102.2</td>\n",
              "      <td>9.6</td>\n",
              "      <td>11.4</td>\n",
              "      <td>99</td>\n",
              "      <td>1.8</td>\n",
              "      <td>0.0</td>\n",
              "      <td>0.0</td>\n",
              "    </tr>\n",
              "  </tbody>\n",
              "</table>\n",
              "</div>"
            ],
            "text/plain": [
              "   X  Y  month  day  FFMC   DMC     DC  ISI  temp  RH  wind  rain  area\n",
              "0  7  5      7    0  86.2  26.2   94.3  5.1   8.2  51   6.7   0.0   0.0\n",
              "1  7  4     10    5  90.6  35.4  669.1  6.7  18.0  33   0.9   0.0   0.0\n",
              "2  7  4     10    2  90.6  43.7  686.9  6.7  14.6  33   1.3   0.0   0.0\n",
              "3  8  6      7    0  91.7  33.3   77.5  9.0   8.3  97   4.0   0.2   0.0\n",
              "4  8  6      7    3  89.3  51.3  102.2  9.6  11.4  99   1.8   0.0   0.0"
            ]
          },
          "metadata": {
            "tags": []
          },
          "execution_count": 168
        }
      ]
    },
    {
      "metadata": {
        "id": "fF5_83JwCz67",
        "colab_type": "code",
        "colab": {
          "base_uri": "https://localhost:8080/",
          "height": 204
        },
        "outputId": "2183141e-a542-4e52-d0b7-a08aa65f47ee"
      },
      "cell_type": "code",
      "source": [
        "forest_fires['FFMC'] = forest_fires['FFMC'].astype(np.int64)\n",
        "forest_fires['DMC'] = forest_fires['DMC'].astype(np.int64)\n",
        "forest_fires['DC'] = forest_fires['DC'].astype(np.int64)\n",
        "forest_fires['ISI'] = forest_fires['ISI'].astype(np.int64)\n",
        "forest_fires['temp'] = forest_fires['temp'].astype(np.int64)\n",
        "forest_fires['wind'] = forest_fires['wind'].astype(np.int64)\n",
        "forest_fires['rain'] = forest_fires['rain'].astype(np.int64)\n",
        "forest_fires['area'] = forest_fires['area'].astype(np.int64)\n",
        "forest_fires.head()\n"
      ],
      "execution_count": 169,
      "outputs": [
        {
          "output_type": "execute_result",
          "data": {
            "text/html": [
              "<div>\n",
              "<style scoped>\n",
              "    .dataframe tbody tr th:only-of-type {\n",
              "        vertical-align: middle;\n",
              "    }\n",
              "\n",
              "    .dataframe tbody tr th {\n",
              "        vertical-align: top;\n",
              "    }\n",
              "\n",
              "    .dataframe thead th {\n",
              "        text-align: right;\n",
              "    }\n",
              "</style>\n",
              "<table border=\"1\" class=\"dataframe\">\n",
              "  <thead>\n",
              "    <tr style=\"text-align: right;\">\n",
              "      <th></th>\n",
              "      <th>X</th>\n",
              "      <th>Y</th>\n",
              "      <th>month</th>\n",
              "      <th>day</th>\n",
              "      <th>FFMC</th>\n",
              "      <th>DMC</th>\n",
              "      <th>DC</th>\n",
              "      <th>ISI</th>\n",
              "      <th>temp</th>\n",
              "      <th>RH</th>\n",
              "      <th>wind</th>\n",
              "      <th>rain</th>\n",
              "      <th>area</th>\n",
              "    </tr>\n",
              "  </thead>\n",
              "  <tbody>\n",
              "    <tr>\n",
              "      <th>0</th>\n",
              "      <td>7</td>\n",
              "      <td>5</td>\n",
              "      <td>7</td>\n",
              "      <td>0</td>\n",
              "      <td>86</td>\n",
              "      <td>26</td>\n",
              "      <td>94</td>\n",
              "      <td>5</td>\n",
              "      <td>8</td>\n",
              "      <td>51</td>\n",
              "      <td>6</td>\n",
              "      <td>0</td>\n",
              "      <td>0</td>\n",
              "    </tr>\n",
              "    <tr>\n",
              "      <th>1</th>\n",
              "      <td>7</td>\n",
              "      <td>4</td>\n",
              "      <td>10</td>\n",
              "      <td>5</td>\n",
              "      <td>90</td>\n",
              "      <td>35</td>\n",
              "      <td>669</td>\n",
              "      <td>6</td>\n",
              "      <td>18</td>\n",
              "      <td>33</td>\n",
              "      <td>0</td>\n",
              "      <td>0</td>\n",
              "      <td>0</td>\n",
              "    </tr>\n",
              "    <tr>\n",
              "      <th>2</th>\n",
              "      <td>7</td>\n",
              "      <td>4</td>\n",
              "      <td>10</td>\n",
              "      <td>2</td>\n",
              "      <td>90</td>\n",
              "      <td>43</td>\n",
              "      <td>686</td>\n",
              "      <td>6</td>\n",
              "      <td>14</td>\n",
              "      <td>33</td>\n",
              "      <td>1</td>\n",
              "      <td>0</td>\n",
              "      <td>0</td>\n",
              "    </tr>\n",
              "    <tr>\n",
              "      <th>3</th>\n",
              "      <td>8</td>\n",
              "      <td>6</td>\n",
              "      <td>7</td>\n",
              "      <td>0</td>\n",
              "      <td>91</td>\n",
              "      <td>33</td>\n",
              "      <td>77</td>\n",
              "      <td>9</td>\n",
              "      <td>8</td>\n",
              "      <td>97</td>\n",
              "      <td>4</td>\n",
              "      <td>0</td>\n",
              "      <td>0</td>\n",
              "    </tr>\n",
              "    <tr>\n",
              "      <th>4</th>\n",
              "      <td>8</td>\n",
              "      <td>6</td>\n",
              "      <td>7</td>\n",
              "      <td>3</td>\n",
              "      <td>89</td>\n",
              "      <td>51</td>\n",
              "      <td>102</td>\n",
              "      <td>9</td>\n",
              "      <td>11</td>\n",
              "      <td>99</td>\n",
              "      <td>1</td>\n",
              "      <td>0</td>\n",
              "      <td>0</td>\n",
              "    </tr>\n",
              "  </tbody>\n",
              "</table>\n",
              "</div>"
            ],
            "text/plain": [
              "   X  Y  month  day  FFMC  DMC   DC  ISI  temp  RH  wind  rain  area\n",
              "0  7  5      7    0    86   26   94    5     8  51     6     0     0\n",
              "1  7  4     10    5    90   35  669    6    18  33     0     0     0\n",
              "2  7  4     10    2    90   43  686    6    14  33     1     0     0\n",
              "3  8  6      7    0    91   33   77    9     8  97     4     0     0\n",
              "4  8  6      7    3    89   51  102    9    11  99     1     0     0"
            ]
          },
          "metadata": {
            "tags": []
          },
          "execution_count": 169
        }
      ]
    },
    {
      "metadata": {
        "id": "TCy-KQWUXQg8",
        "colab_type": "code",
        "colab": {
          "base_uri": "https://localhost:8080/",
          "height": 1176
        },
        "outputId": "d767fa75-104c-438e-91e3-402fe79890e9"
      },
      "cell_type": "code",
      "source": [
        "from sklearn.preprocessing import MinMaxScaler,StandardScaler\n",
        "\n",
        "data = forest_fires\n",
        "target = data['area']\n",
        "del data['area']\n",
        "print(forest_fires)\n",
        "scaler = MinMaxScaler()\n",
        "data[['FFMC','DMC','DC','ISI','temp', 'RH','wind', 'rain']] = scaler.fit_transform(data[['FFMC','DMC','DC','ISI','temp', 'RH','wind', 'rain']])\n",
        "\n",
        "print()"
      ],
      "execution_count": 185,
      "outputs": [
        {
          "output_type": "stream",
          "text": [
            "     X  Y  month  day  FFMC  DMC   DC  ISI  temp  RH  wind  rain\n",
            "0    7  5      7    0    86   26   94    5     8  51     6     0\n",
            "1    7  4     10    5    90   35  669    6    18  33     0     0\n",
            "2    7  4     10    2    90   43  686    6    14  33     1     0\n",
            "3    8  6      7    0    91   33   77    9     8  97     4     0\n",
            "4    8  6      7    3    89   51  102    9    11  99     1     0\n",
            "5    8  6      1    3    92   85  488   14    22  29     5     0\n",
            "6    8  6      1    1    92   88  495    8    24  27     3     0\n",
            "7    8  6      1    1    91  145  608   10     8  86     2     0\n",
            "8    8  6     11    5    91  129  692    7    13  63     5     0\n",
            "9    7  5     11    2    92   88  698    7    22  40     4     0\n",
            "10   7  5     11    2    92   88  698    7    17  51     7     0\n",
            "11   7  5     11    2    92   73  713   22    19  38     4     0\n",
            "12   6  5      1    0    63   70  665    0    17  72     6     0\n",
            "13   6  5     11    1    90  126  686    7    21  42     2     0\n",
            "14   6  5     11    6    92  133  699    9    26  21     4     0\n",
            "15   6  5     11    0    93  141  713   13    22  44     5     0\n",
            "16   5  5      7    2    91   35   80    7    15  27     5     0\n",
            "17   8  5     10    1    84   32  664    3    16  47     4     0\n",
            "18   6  4      7    6    89   27   70    6    15  35     4     0\n",
            "19   6  4      0    2    86   27   97    5     9  44     4     0\n",
            "20   6  4     11    5    91  129  692    7    18  40     2     0\n",
            "21   5  4     11    1    91   78  724    9    19  38     2     0\n",
            "22   7  4      6    3    94   96  200   56    21  44     4     0\n",
            "23   7  4      1    2    90  110  537    6    19  43     5     0\n",
            "24   7  4      1    2    93  139  594   20    23  32     5     0\n",
            "25   7  4      1    3    91  142  601   10    16  60     5     0\n",
            "26   7  4     11    0    92  117  668   12    19  34     5     0\n",
            "27   7  4     11    1    90  126  686    7    19  48     1     0\n",
            "28   6  3     11    2    93  145  721    8    30  24     2     0\n",
            "29   6  3     11    3    93  149  728    8    22  39     3     0\n",
            "..  .. ..    ...  ...   ...  ...  ...  ...   ...  ..   ...   ...\n",
            "487  5  4      1    5    95  141  605   17    26  34     3     0\n",
            "488  4  4      1    5    95  141  605   17    19  71     7     0\n",
            "489  4  4      1    6    95  141  605   17    20  58     1     0\n",
            "490  4  4      1    6    95  141  605   17    28  33     4     0\n",
            "491  4  4      1    4    95  152  624   13    32  21     4     0\n",
            "492  1  3      1    0    95  158  633   11    32  27     2     0\n",
            "493  1  3      1    0    95  158  633   11    27  29     4     0\n",
            "494  6  6      1    2    96  164  643   14    30  30     4     0\n",
            "495  6  6      1    1    96  175  661   16    23  42     2     0\n",
            "496  4  5      1    1    96  175  661   16    32  26     3     0\n",
            "497  3  4      1    5    96  181  671   14    32  27     2     0\n",
            "498  6  5      1    5    96  181  671   14    33  26     2     0\n",
            "499  7  5      1    5    96  181  671   14    27  63     4     6\n",
            "500  8  6      1    5    96  181  671   14    21  65     4     0\n",
            "501  7  5      1    5    96  181  671   14    21  65     4     0\n",
            "502  4  4      1    5    96  181  671   14    20  69     4     0\n",
            "503  2  4      1    6    94  139  689   20    29  30     4     0\n",
            "504  4  3      1    6    94  139  689   20    28  29     4     0\n",
            "505  1  2      1    4    91  163  744   10    26  35     1     0\n",
            "506  1  2      1    0    91  166  752    7    18  73     8     0\n",
            "507  2  4      1    0    91  166  752    7    25  41     3     0\n",
            "508  1  2      1    0    91  166  752    7    25  41     3     0\n",
            "509  5  4      1    0    91  166  752    7    21  71     7     1\n",
            "510  6  5      1    0    91  166  752    7    18  62     5     0\n",
            "511  8  6      1    3    81   56  665    1    27  35     2     0\n",
            "512  4  3      1    3    81   56  665    1    27  32     2     0\n",
            "513  2  4      1    3    81   56  665    1    21  71     5     0\n",
            "514  7  4      1    3    81   56  665    1    21  70     6     0\n",
            "515  1  4      1    2    94  146  614   11    25  42     4     0\n",
            "516  6  3      9    5    79    3  106    1    11  31     4     0\n",
            "\n",
            "[517 rows x 12 columns]\n",
            "\n"
          ],
          "name": "stdout"
        },
        {
          "output_type": "stream",
          "text": [
            "/usr/local/lib/python3.6/dist-packages/sklearn/preprocessing/data.py:334: DataConversionWarning: Data with input dtype int64 were all converted to float64 by MinMaxScaler.\n",
            "  return self.partial_fit(X, y)\n"
          ],
          "name": "stderr"
        }
      ]
    },
    {
      "metadata": {
        "id": "taE3ONmmXgRH",
        "colab_type": "code",
        "colab": {
          "base_uri": "https://localhost:8080/",
          "height": 88
        },
        "outputId": "9430f4ce-06f1-497e-a9e0-0683467cd782"
      },
      "cell_type": "code",
      "source": [
        "from sklearn.model_selection import train_test_split\n",
        "X_train, X_test, Y_train, Y_test = train_test_split(data, target, train_size = 0.70)\n",
        "X_train.shape, X_test.shape, Y_train.shape, Y_test.shape"
      ],
      "execution_count": 186,
      "outputs": [
        {
          "output_type": "stream",
          "text": [
            "/usr/local/lib/python3.6/dist-packages/sklearn/model_selection/_split.py:2179: FutureWarning: From version 0.21, test_size will always complement train_size unless both are specified.\n",
            "  FutureWarning)\n"
          ],
          "name": "stderr"
        },
        {
          "output_type": "execute_result",
          "data": {
            "text/plain": [
              "((361, 12), (156, 12), (361,), (156,))"
            ]
          },
          "metadata": {
            "tags": []
          },
          "execution_count": 186
        }
      ]
    },
    {
      "metadata": {
        "id": "OG1UPJlxXkwd",
        "colab_type": "code",
        "colab": {
          "base_uri": "https://localhost:8080/",
          "height": 34
        },
        "outputId": "778558df-59e8-40d6-84cd-9a4c61d1ee40"
      },
      "cell_type": "code",
      "source": [
        "############################################### My LinearRegression #################################\n",
        "from sklearn.linear_model import LinearRegression\n",
        "lr = LinearRegression ()\n",
        "lr = lr.fit(X_train,Y_train)\n",
        "predicted_lr = lr.predict(X_test)\n",
        "from sklearn import metrics\n",
        "mse = metrics.mean_squared_error(Y_test,predicted_lr)\n",
        "mse"
      ],
      "execution_count": 187,
      "outputs": [
        {
          "output_type": "execute_result",
          "data": {
            "text/plain": [
              "1.7778634416753227"
            ]
          },
          "metadata": {
            "tags": []
          },
          "execution_count": 187
        }
      ]
    },
    {
      "metadata": {
        "id": "cmMvDpM2Y5OR",
        "colab_type": "code",
        "colab": {
          "base_uri": "https://localhost:8080/",
          "height": 34
        },
        "outputId": "c08def58-e983-4576-e6b9-094832933212"
      },
      "cell_type": "code",
      "source": [
        "#################################### My Cross validation Linear Regression ####################################################\n",
        "from sklearn.model_selection import cross_val_score  \n",
        "all_accuracies = cross_val_score(estimator=lr, X=X_train, y=Y_train, cv=300)\n",
        "all_accuracies.mean()"
      ],
      "execution_count": 188,
      "outputs": [
        {
          "output_type": "execute_result",
          "data": {
            "text/plain": [
              "-0.21731150584145936"
            ]
          },
          "metadata": {
            "tags": []
          },
          "execution_count": 188
        }
      ]
    },
    {
      "metadata": {
        "id": "3VNeZZHdZCvR",
        "colab_type": "code",
        "colab": {
          "base_uri": "https://localhost:8080/",
          "height": 34
        },
        "outputId": "0db56fa9-8fb8-4928-f175-d668e82d4b84"
      },
      "cell_type": "code",
      "source": [
        "############################################ My Grid search linear Regression #######################################################\n",
        "from sklearn.model_selection import GridSearchCV\n",
        "param_grid = {'fit_intercept':[True,False], 'normalize':[True,False], 'copy_X':[True, False]};\n",
        "reg = LinearRegression()\n",
        "grid = GridSearchCV(lr, param_grid, cv = 5)\n",
        "grid.fit(X_train, Y_train)\n",
        "Y_pred_reg = grid.predict(X_test)\n",
        "grid.best_params_"
      ],
      "execution_count": 189,
      "outputs": [
        {
          "output_type": "execute_result",
          "data": {
            "text/plain": [
              "{'copy_X': True, 'fit_intercept': False, 'normalize': True}"
            ]
          },
          "metadata": {
            "tags": []
          },
          "execution_count": 189
        }
      ]
    },
    {
      "metadata": {
        "id": "2sbTPN3UZbrn",
        "colab_type": "code",
        "colab": {
          "base_uri": "https://localhost:8080/",
          "height": 34
        },
        "outputId": "4fe3cf24-4908-4397-8c1a-01d77a81ae41"
      },
      "cell_type": "code",
      "source": [
        "############################################ My Decision tree#####################################################3\n",
        "from sklearn.tree import DecisionTreeClassifier\n",
        "dtc = DecisionTreeClassifier()\n",
        "dtc = dtc.fit(X_train, Y_train)\n",
        "predicted_dtc = dtc.predict(X_test)\n",
        "from sklearn import metrics\n",
        "metrics.accuracy_score(Y_test, predicted_dtc)"
      ],
      "execution_count": 191,
      "outputs": [
        {
          "output_type": "execute_result",
          "data": {
            "text/plain": [
              "0.358974358974359"
            ]
          },
          "metadata": {
            "tags": []
          },
          "execution_count": 191
        }
      ]
    },
    {
      "metadata": {
        "id": "W6LsSdgVZurM",
        "colab_type": "code",
        "colab": {
          "base_uri": "https://localhost:8080/",
          "height": 88
        },
        "outputId": "82405032-ebfc-48ee-a94e-ad8d3e39f1ee"
      },
      "cell_type": "code",
      "source": [
        "####################################Cross validation Decision tree ####################################################\n",
        "from sklearn.model_selection import cross_val_score  \n",
        "all_accuracies = cross_val_score(estimator=dtc, X=X_train, y=Y_train, cv=5)\n",
        "all_accuracies.mean()"
      ],
      "execution_count": 192,
      "outputs": [
        {
          "output_type": "stream",
          "text": [
            "/usr/local/lib/python3.6/dist-packages/sklearn/model_selection/_split.py:652: Warning: The least populated class in y has only 1 members, which is too few. The minimum number of members in any class cannot be less than n_splits=5.\n",
            "  % (min_groups, self.n_splits)), Warning)\n"
          ],
          "name": "stderr"
        },
        {
          "output_type": "execute_result",
          "data": {
            "text/plain": [
              "0.4385980095207498"
            ]
          },
          "metadata": {
            "tags": []
          },
          "execution_count": 192
        }
      ]
    },
    {
      "metadata": {
        "id": "2Uk561gvZyDd",
        "colab_type": "code",
        "colab": {
          "base_uri": "https://localhost:8080/",
          "height": 122
        },
        "outputId": "cd8000dd-9aee-4384-cc53-f36274d9b5ca"
      },
      "cell_type": "code",
      "source": [
        "############################################Grid search#######################################################\n",
        "from sklearn.model_selection import GridSearchCV\n",
        "param_grid = {'max_depth':np.arange(2,200)}\n",
        "grid = GridSearchCV(dtc, param_grid, cv=5, scoring='neg_mean_squared_error')\n",
        "grid.fit(X_train, Y_train.values.ravel())\n",
        "y_pred_class = grid.predict(X_test)\n",
        "grid.best_params_"
      ],
      "execution_count": 193,
      "outputs": [
        {
          "output_type": "stream",
          "text": [
            "/usr/local/lib/python3.6/dist-packages/sklearn/model_selection/_split.py:652: Warning: The least populated class in y has only 1 members, which is too few. The minimum number of members in any class cannot be less than n_splits=5.\n",
            "  % (min_groups, self.n_splits)), Warning)\n",
            "/usr/local/lib/python3.6/dist-packages/sklearn/model_selection/_search.py:841: DeprecationWarning: The default of the `iid` parameter will change from True to False in version 0.22 and will be removed in 0.24. This will change numeric results when test-set sizes are unequal.\n",
            "  DeprecationWarning)\n"
          ],
          "name": "stderr"
        },
        {
          "output_type": "execute_result",
          "data": {
            "text/plain": [
              "{'max_depth': 4}"
            ]
          },
          "metadata": {
            "tags": []
          },
          "execution_count": 193
        }
      ]
    },
    {
      "metadata": {
        "id": "SJJykCL7Z1_Q",
        "colab_type": "code",
        "colab": {
          "base_uri": "https://localhost:8080/",
          "height": 34
        },
        "outputId": "719445a7-7054-4a2f-ad34-a2dfa3401832"
      },
      "cell_type": "code",
      "source": [
        "###################################################KNN#############################################\n",
        "from sklearn.neighbors import KNeighborsClassifier\n",
        "knn = KNeighborsClassifier()\n",
        "knn =knn.fit(X_train, Y_train)\n",
        "predicted_knn = knn.predict(X_test)\n",
        "from sklearn import metrics\n",
        "metrics.accuracy_score(Y_test, predicted_knn)"
      ],
      "execution_count": 194,
      "outputs": [
        {
          "output_type": "execute_result",
          "data": {
            "text/plain": [
              "0.5"
            ]
          },
          "metadata": {
            "tags": []
          },
          "execution_count": 194
        }
      ]
    },
    {
      "metadata": {
        "id": "JQ46Q4jmZ5dw",
        "colab_type": "code",
        "colab": {
          "base_uri": "https://localhost:8080/",
          "height": 88
        },
        "outputId": "a34264db-f3c1-457c-8d63-3fd8ab3ef912"
      },
      "cell_type": "code",
      "source": [
        "####################################Cross validation KNN ####################################################\n",
        "from sklearn.model_selection import cross_val_score  \n",
        "all_accuracies = cross_val_score(estimator=knn, X=X_train, y=Y_train, cv=5)\n",
        "all_accuracies.mean()"
      ],
      "execution_count": 196,
      "outputs": [
        {
          "output_type": "stream",
          "text": [
            "/usr/local/lib/python3.6/dist-packages/sklearn/model_selection/_split.py:652: Warning: The least populated class in y has only 1 members, which is too few. The minimum number of members in any class cannot be less than n_splits=5.\n",
            "  % (min_groups, self.n_splits)), Warning)\n"
          ],
          "name": "stderr"
        },
        {
          "output_type": "execute_result",
          "data": {
            "text/plain": [
              "0.5438018056056543"
            ]
          },
          "metadata": {
            "tags": []
          },
          "execution_count": 196
        }
      ]
    },
    {
      "metadata": {
        "id": "eFE67JfqaiRa",
        "colab_type": "code",
        "colab": {
          "base_uri": "https://localhost:8080/",
          "height": 122
        },
        "outputId": "da87ff2a-5754-4b79-fff7-3bf4d8e852f2"
      },
      "cell_type": "code",
      "source": [
        "########################################### My Grid search KNN #######################################################\n",
        "from sklearn.model_selection import GridSearchCV\n",
        "param_grid = {'n_neighbors' :np.arange(1,10)}\n",
        "knn = KNeighborsClassifier()\n",
        "grid = GridSearchCV(knn, param_grid, cv = 5)\n",
        "grid.fit(X_train, Y_train)\n",
        "predicted_knn = grid.predict(X_test)\n",
        "grid.best_params_"
      ],
      "execution_count": 197,
      "outputs": [
        {
          "output_type": "stream",
          "text": [
            "/usr/local/lib/python3.6/dist-packages/sklearn/model_selection/_split.py:652: Warning: The least populated class in y has only 1 members, which is too few. The minimum number of members in any class cannot be less than n_splits=5.\n",
            "  % (min_groups, self.n_splits)), Warning)\n",
            "/usr/local/lib/python3.6/dist-packages/sklearn/model_selection/_search.py:841: DeprecationWarning: The default of the `iid` parameter will change from True to False in version 0.22 and will be removed in 0.24. This will change numeric results when test-set sizes are unequal.\n",
            "  DeprecationWarning)\n"
          ],
          "name": "stderr"
        },
        {
          "output_type": "execute_result",
          "data": {
            "text/plain": [
              "{'n_neighbors': 9}"
            ]
          },
          "metadata": {
            "tags": []
          },
          "execution_count": 197
        }
      ]
    },
    {
      "metadata": {
        "id": "u-jaZwHABMOP",
        "colab_type": "code",
        "colab": {
          "base_uri": "https://localhost:8080/",
          "height": 1003
        },
        "outputId": "939e8f60-fe40-4b1d-93b1-a69e9c278317"
      },
      "cell_type": "code",
      "source": [
        "from skimage.filters import threshold_otsu\n",
        "\n",
        "target = np.array(target)\n",
        "threshold_global_otsu = threshold_otsu(target)\n",
        "global_otsu = target >= threshold_global_otsu\n",
        "global_otsu"
      ],
      "execution_count": 198,
      "outputs": [
        {
          "output_type": "execute_result",
          "data": {
            "text/plain": [
              "array([False, False, False, False, False, False, False, False, False,\n",
              "       False, False, False, False, False, False, False, False, False,\n",
              "       False, False, False, False, False, False, False, False, False,\n",
              "       False, False, False, False, False, False, False, False, False,\n",
              "       False, False, False, False, False, False, False, False, False,\n",
              "       False, False, False, False, False, False, False, False, False,\n",
              "       False, False, False, False, False, False, False, False, False,\n",
              "       False, False, False, False, False, False, False, False, False,\n",
              "       False, False, False, False, False, False, False, False, False,\n",
              "       False, False, False, False, False, False, False, False, False,\n",
              "       False, False, False, False, False, False, False, False, False,\n",
              "       False, False, False, False, False, False, False, False, False,\n",
              "       False, False, False, False, False, False, False, False, False,\n",
              "       False, False, False, False, False, False, False, False, False,\n",
              "       False, False, False, False, False, False, False, False, False,\n",
              "       False, False, False, False, False, False, False, False, False,\n",
              "       False, False, False, False, False, False, False, False, False,\n",
              "       False, False, False, False, False, False, False,  True,  True,\n",
              "        True,  True,  True,  True,  True,  True,  True,  True,  True,\n",
              "        True,  True,  True,  True,  True,  True,  True,  True,  True,\n",
              "        True,  True,  True,  True,  True,  True,  True,  True,  True,\n",
              "        True,  True,  True,  True,  True,  True,  True,  True,  True,\n",
              "        True,  True,  True,  True,  True,  True,  True,  True,  True,\n",
              "        True,  True,  True,  True,  True,  True,  True,  True,  True,\n",
              "        True,  True,  True,  True,  True,  True,  True,  True,  True,\n",
              "        True,  True,  True,  True,  True,  True,  True,  True,  True,\n",
              "        True,  True,  True,  True,  True, False, False, False,  True,\n",
              "       False,  True, False, False, False, False,  True, False, False,\n",
              "       False, False,  True, False,  True, False, False, False,  True,\n",
              "        True,  True, False,  True, False, False, False, False,  True,\n",
              "       False,  True,  True,  True,  True,  True,  True,  True,  True,\n",
              "        True,  True,  True, False, False,  True, False, False, False,\n",
              "       False, False, False,  True,  True,  True,  True, False, False,\n",
              "       False, False, False, False,  True, False, False, False, False,\n",
              "       False,  True, False, False, False,  True, False, False, False,\n",
              "       False, False,  True, False,  True,  True,  True, False,  True,\n",
              "        True, False, False, False, False,  True,  True,  True,  True,\n",
              "        True, False, False, False,  True,  True, False,  True, False,\n",
              "       False,  True,  True,  True,  True, False, False, False,  True,\n",
              "        True,  True,  True,  True,  True, False, False, False,  True,\n",
              "       False,  True, False,  True,  True,  True,  True, False,  True,\n",
              "       False,  True, False, False, False,  True,  True, False,  True,\n",
              "       False, False,  True,  True,  True,  True,  True,  True,  True,\n",
              "       False,  True, False,  True,  True,  True, False, False,  True,\n",
              "        True,  True, False, False,  True,  True, False, False,  True,\n",
              "       False,  True, False,  True, False, False,  True, False, False,\n",
              "       False,  True,  True, False,  True,  True,  True, False,  True,\n",
              "       False,  True, False, False,  True, False,  True, False,  True,\n",
              "       False,  True, False, False, False, False,  True, False, False,\n",
              "       False,  True, False,  True, False, False, False, False, False,\n",
              "        True,  True, False, False, False, False, False,  True,  True,\n",
              "        True, False, False,  True,  True,  True,  True,  True,  True,\n",
              "        True,  True, False,  True,  True,  True,  True,  True,  True,\n",
              "        True,  True,  True,  True, False, False, False,  True,  True,\n",
              "        True,  True,  True, False, False, False, False,  True,  True,\n",
              "       False,  True,  True,  True,  True, False, False, False,  True,\n",
              "        True,  True, False, False, False,  True, False, False,  True,\n",
              "        True,  True, False, False])"
            ]
          },
          "metadata": {
            "tags": []
          },
          "execution_count": 198
        }
      ]
    },
    {
      "metadata": {
        "id": "uCJEo0goBNi8",
        "colab_type": "code",
        "colab": {
          "base_uri": "https://localhost:8080/",
          "height": 102
        },
        "outputId": "71ef46c4-72d3-45e4-9985-d6e7cf89ee13"
      },
      "cell_type": "code",
      "source": [
        "print(threshold_global_otsu)\n",
        "print(np.histogram(Y_test,np.unique(target)))\n",
        "print(np.histogram(Y_pred_reg,np.unique(target)))\n",
        "print(np.histogram(predicted_knn,np.unique(target)))\n",
        "print(np.histogram(y_pred_class,np.unique(target)))"
      ],
      "execution_count": 199,
      "outputs": [
        {
          "output_type": "stream",
          "text": [
            "1\n",
            "(array([85, 26, 23, 13,  7,  2]), array([0, 1, 2, 3, 4, 5, 6]))\n",
            "(array([120,  35,   0,   0,   0,   0]), array([0, 1, 2, 3, 4, 5, 6]))\n",
            "(array([147,   7,   2,   0,   0,   0]), array([0, 1, 2, 3, 4, 5, 6]))\n",
            "(array([132,  17,   7,   0,   0,   0]), array([0, 1, 2, 3, 4, 5, 6]))\n"
          ],
          "name": "stdout"
        }
      ]
    },
    {
      "metadata": {
        "id": "pf2RFBH4BYMS",
        "colab_type": "code",
        "colab": {
          "base_uri": "https://localhost:8080/",
          "height": 68
        },
        "outputId": "71539494-d54a-414a-eac1-1d0122c96998"
      },
      "cell_type": "code",
      "source": [
        "from sklearn.metrics import mean_squared_error\n",
        "print(mean_squared_error(Y_test, Y_pred_reg))\n",
        "print(mean_squared_error(Y_test, predicted_knn))\n",
        "print(mean_squared_error(Y_test, y_pred_class))"
      ],
      "execution_count": 200,
      "outputs": [
        {
          "output_type": "stream",
          "text": [
            "1.7780165773592176\n",
            "2.5833333333333335\n",
            "2.4294871794871793\n"
          ],
          "name": "stdout"
        }
      ]
    }
  ]
}